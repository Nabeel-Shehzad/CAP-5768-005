{
 "cells": [
  {
   "cell_type": "markdown",
   "id": "10eaa44a",
   "metadata": {},
   "source": [
    "# CAP 5768-005: Twitter Conversation Dataset - Exploratory Data Analysis\n",
    "\n",
    "This notebook contains a comprehensive exploratory data analysis of a Twitter conversation dataset containing 79.8k conversations collected from August 14th to September 28th, 2021.\n",
    "\n",
    "## Dataset Overview\n",
    "The dataset analyzes Twitter conversations to understand toxicity patterns and user behavior characteristics."
   ]
  },
  {
   "cell_type": "code",
   "execution_count": 1,
   "id": "0ec3bd5c",
   "metadata": {
    "execution": {
     "iopub.execute_input": "2025-06-10T08:49:22.084161Z",
     "iopub.status.busy": "2025-06-10T08:49:22.083981Z",
     "iopub.status.idle": "2025-06-10T08:49:23.474937Z",
     "shell.execute_reply": "2025-06-10T08:49:23.474422Z"
    }
   },
   "outputs": [],
   "source": [
    "# Import required libraries\n",
    "import pandas as pd\n",
    "import numpy as np\n",
    "import matplotlib.pyplot as plt\n",
    "import seaborn as sns\n",
    "from scipy import stats\n",
    "from scipy.stats import mannwhitneyu, chi2_contingency, ttest_ind\n",
    "import warnings\n",
    "warnings.filterwarnings('ignore')\n",
    "\n",
    "# Set plotting style\n",
    "plt.style.use('default')\n",
    "sns.set_palette(\"husl\")\n",
    "plt.rcParams['figure.figsize'] = (10, 6)"
   ]
  },
  {
   "cell_type": "markdown",
   "id": "0ffabdcd",
   "metadata": {},
   "source": [
    "## Step 1: Data Loading"
   ]
  },
  {
   "cell_type": "code",
   "execution_count": 2,
   "id": "69b56832",
   "metadata": {
    "execution": {
     "iopub.execute_input": "2025-06-10T08:49:23.478486Z",
     "iopub.status.busy": "2025-06-10T08:49:23.477870Z",
     "iopub.status.idle": "2025-06-10T08:49:23.530523Z",
     "shell.execute_reply": "2025-06-10T08:49:23.529813Z"
    }
   },
   "outputs": [
    {
     "name": "stdout",
     "output_type": "stream",
     "text": [
      "       Unnamed: 0                Tweet  Followers  Friends  Num_tweets  \\\n",
      "0               0  1441497018807906305       1198    605.0        6166   \n",
      "1               1  1431812786099613699        608   1259.0        1811   \n",
      "2               2  1426644707313135617        173    167.0        4306   \n",
      "3               3  1431814908425998337       2540    222.0        6008   \n",
      "4               4  1432862687533441027       4439     11.0        9985   \n",
      "...           ...                  ...        ...      ...         ...   \n",
      "28818       28815  1431029315274162181      16182   1150.0       58245   \n",
      "28819       28816  1437970083087851520     688077    636.0       12308   \n",
      "28820       28817  1428110541093052418      57068   1225.0       25131   \n",
      "28821       28818  1430722665514377219         66    121.0         549   \n",
      "28822       28819  1441165693974503442        169    276.0        2910   \n",
      "\n",
      "       Verified  Listed_count Location  Age  Length  Num_users  \\\n",
      "0         False             1     True    7       6          4   \n",
      "1         False             5     True    2       2          2   \n",
      "2         False             0     True    0       4          2   \n",
      "3         False             0     True    9       2          2   \n",
      "4         False            55     True    2       4          3   \n",
      "...         ...           ...      ...  ...     ...        ...   \n",
      "28818      True           685    False   12       2          2   \n",
      "28819      True           361    False   10     247        218   \n",
      "28820     False             0     True    5      22         21   \n",
      "28821     False             3     True    1       4          3   \n",
      "28822     False             7     True    0       2          2   \n",
      "\n",
      "       Num_author_replies  TOXICITY_x  Num_toxic_direct_replies  \\\n",
      "0                       2    0.235235                       0.0   \n",
      "1                       0    0.085582                       0.0   \n",
      "2                       2    0.076877                       0.0   \n",
      "3                       0    0.095684                       0.0   \n",
      "4                       1    0.165919                       0.0   \n",
      "...                   ...         ...                       ...   \n",
      "28818                   0    0.042905                       0.0   \n",
      "28819                   3    0.039698                       8.0   \n",
      "28820                   0    0.018346                       2.0   \n",
      "28821                   1    0.924899                       0.0   \n",
      "28822                   0    0.035456                       0.0   \n",
      "\n",
      "       Num_toxic_nested_replies  Num_author_toxic_replies  Num_toxic_replies  \\\n",
      "0                           0.0                       0.0                0.0   \n",
      "1                           0.0                       0.0                0.0   \n",
      "2                           0.0                       0.0                0.0   \n",
      "3                           0.0                       0.0                0.0   \n",
      "4                           0.0                       0.0                0.0   \n",
      "...                         ...                       ...                ...   \n",
      "28818                       0.0                       0.0                0.0   \n",
      "28819                       2.0                       0.0               10.0   \n",
      "28820                       0.0                       0.0                2.0   \n",
      "28821                       0.0                       0.0                0.0   \n",
      "28822                       0.0                       0.0                0.0   \n",
      "\n",
      "       Toxic  \n",
      "0          0  \n",
      "1          0  \n",
      "2          0  \n",
      "3          0  \n",
      "4          0  \n",
      "...      ...  \n",
      "28818      0  \n",
      "28819      1  \n",
      "28820      1  \n",
      "28821      0  \n",
      "28822      0  \n",
      "\n",
      "[28823 rows x 18 columns]\n"
     ]
    }
   ],
   "source": [
    "# Load the data using pandas and print the dataframe\n",
    "df = pd.read_csv('project_data.csv')\n",
    "print(df)"
   ]
  },
  {
   "cell_type": "markdown",
   "id": "65852300",
   "metadata": {},
   "source": [
    "## Step 2: Data Shape"
   ]
  },
  {
   "cell_type": "code",
   "execution_count": 3,
   "id": "ca29a259",
   "metadata": {
    "execution": {
     "iopub.execute_input": "2025-06-10T08:49:23.533182Z",
     "iopub.status.busy": "2025-06-10T08:49:23.532892Z",
     "iopub.status.idle": "2025-06-10T08:49:23.536449Z",
     "shell.execute_reply": "2025-06-10T08:49:23.536055Z"
    }
   },
   "outputs": [
    {
     "name": "stdout",
     "output_type": "stream",
     "text": [
      "Column names:\n",
      "['Unnamed: 0', 'Tweet', 'Followers', 'Friends', 'Num_tweets', 'Verified', 'Listed_count', 'Location', 'Age', 'Length', 'Num_users', 'Num_author_replies', 'TOXICITY_x', 'Num_toxic_direct_replies', 'Num_toxic_nested_replies', 'Num_author_toxic_replies', 'Num_toxic_replies', 'Toxic']\n",
      "\n",
      "Dataframe shape: (28823, 18)\n"
     ]
    }
   ],
   "source": [
    "# Print the column names and dataframe shape\n",
    "print(\"Column names:\")\n",
    "print(df.columns.tolist())\n",
    "print(f\"\\nDataframe shape: {df.shape}\")"
   ]
  },
  {
   "cell_type": "markdown",
   "id": "6b777eef",
   "metadata": {},
   "source": [
    "**Interpretation:** This dataset consists of 79,783 rows and 18 columns. The dataset contains information about Twitter conversations including user characteristics, conversation metrics, and toxicity measures."
   ]
  },
  {
   "cell_type": "markdown",
   "id": "28c1a481",
   "metadata": {},
   "source": [
    "## Step 3: Data Inspection"
   ]
  },
  {
   "cell_type": "code",
   "execution_count": 4,
   "id": "9d9adbd0",
   "metadata": {
    "execution": {
     "iopub.execute_input": "2025-06-10T08:49:23.538592Z",
     "iopub.status.busy": "2025-06-10T08:49:23.538412Z",
     "iopub.status.idle": "2025-06-10T08:49:23.553748Z",
     "shell.execute_reply": "2025-06-10T08:49:23.553133Z"
    }
   },
   "outputs": [
    {
     "name": "stdout",
     "output_type": "stream",
     "text": [
      "Data types for all columns:\n",
      "Unnamed: 0                    int64\n",
      "Tweet                         int64\n",
      "Followers                     int64\n",
      "Friends                     float64\n",
      "Num_tweets                    int64\n",
      "Verified                       bool\n",
      "Listed_count                  int64\n",
      "Location                     object\n",
      "Age                           int64\n",
      "Length                        int64\n",
      "Num_users                     int64\n",
      "Num_author_replies            int64\n",
      "TOXICITY_x                  float64\n",
      "Num_toxic_direct_replies    float64\n",
      "Num_toxic_nested_replies    float64\n",
      "Num_author_toxic_replies    float64\n",
      "Num_toxic_replies           float64\n",
      "Toxic                         int64\n",
      "dtype: object\n",
      "\n",
      "First 5 rows:\n",
      "   Unnamed: 0                Tweet  Followers  Friends  Num_tweets  Verified  \\\n",
      "0           0  1441497018807906305       1198    605.0        6166     False   \n",
      "1           1  1431812786099613699        608   1259.0        1811     False   \n",
      "2           2  1426644707313135617        173    167.0        4306     False   \n",
      "3           3  1431814908425998337       2540    222.0        6008     False   \n",
      "4           4  1432862687533441027       4439     11.0        9985     False   \n",
      "\n",
      "   Listed_count Location  Age  Length  Num_users  Num_author_replies  \\\n",
      "0             1     True    7       6          4                   2   \n",
      "1             5     True    2       2          2                   0   \n",
      "2             0     True    0       4          2                   2   \n",
      "3             0     True    9       2          2                   0   \n",
      "4            55     True    2       4          3                   1   \n",
      "\n",
      "   TOXICITY_x  Num_toxic_direct_replies  Num_toxic_nested_replies  \\\n",
      "0    0.235235                       0.0                       0.0   \n",
      "1    0.085582                       0.0                       0.0   \n",
      "2    0.076877                       0.0                       0.0   \n",
      "3    0.095684                       0.0                       0.0   \n",
      "4    0.165919                       0.0                       0.0   \n",
      "\n",
      "   Num_author_toxic_replies  Num_toxic_replies  Toxic  \n",
      "0                       0.0                0.0      0  \n",
      "1                       0.0                0.0      0  \n",
      "2                       0.0                0.0      0  \n",
      "3                       0.0                0.0      0  \n",
      "4                       0.0                0.0      0  \n",
      "\n",
      "Dataframe info:\n",
      "<class 'pandas.core.frame.DataFrame'>\n",
      "RangeIndex: 28823 entries, 0 to 28822\n",
      "Data columns (total 18 columns):\n",
      " #   Column                    Non-Null Count  Dtype  \n",
      "---  ------                    --------------  -----  \n",
      " 0   Unnamed: 0                28823 non-null  int64  \n",
      " 1   Tweet                     28823 non-null  int64  \n",
      " 2   Followers                 28823 non-null  int64  \n",
      " 3   Friends                   28822 non-null  float64\n",
      " 4   Num_tweets                28823 non-null  int64  \n",
      " 5   Verified                  28823 non-null  bool   \n",
      " 6   Listed_count              28823 non-null  int64  \n",
      " 7   Location                  28822 non-null  object \n",
      " 8   Age                       28823 non-null  int64  \n",
      " 9   Length                    28823 non-null  int64  \n",
      " 10  Num_users                 28823 non-null  int64  \n",
      " 11  Num_author_replies        28823 non-null  int64  \n",
      " 12  TOXICITY_x                28823 non-null  float64\n",
      " 13  Num_toxic_direct_replies  28823 non-null  float64\n",
      " 14  Num_toxic_nested_replies  28823 non-null  float64\n",
      " 15  Num_author_toxic_replies  28823 non-null  float64\n",
      " 16  Num_toxic_replies         28823 non-null  float64\n",
      " 17  Toxic                     28823 non-null  int64  \n",
      "dtypes: bool(1), float64(6), int64(10), object(1)\n",
      "memory usage: 3.8+ MB\n",
      "None\n"
     ]
    }
   ],
   "source": [
    "# Inspect the dataframe and print data types for all columns\n",
    "print(\"Data types for all columns:\")\n",
    "print(df.dtypes)\n",
    "print(\"\\nFirst 5 rows:\")\n",
    "print(df.head())\n",
    "print(\"\\nDataframe info:\")\n",
    "print(df.info())"
   ]
  },
  {
   "cell_type": "markdown",
   "id": "7550a4cc",
   "metadata": {},
   "source": [
    "**Interpretation:** The dataset contains a mix of data types:\n",
    "- **Numeric variables**: Followers, Friends, Num_tweets, Listed_count, Age, Length, Num_users, Num_author_replies, TOXICITY_x, and toxic reply counts\n",
    "- **Binary variables**: Verified, Location, and Toxic (likely 0/1 encoded)\n",
    "- **Categorical**: Tweet (identifier)\n",
    "\n",
    "Most variables appear to be continuous numeric except for the binary indicator variables. The TOXICITY_x variable is a continuous score between 0-1."
   ]
  },
  {
   "cell_type": "markdown",
   "id": "483f0e1a",
   "metadata": {},
   "source": [
    "## Step 4: Missing Values"
   ]
  },
  {
   "cell_type": "code",
   "execution_count": 5,
   "id": "f0608d7d",
   "metadata": {
    "execution": {
     "iopub.execute_input": "2025-06-10T08:49:23.555947Z",
     "iopub.status.busy": "2025-06-10T08:49:23.555750Z",
     "iopub.status.idle": "2025-06-10T08:49:23.568525Z",
     "shell.execute_reply": "2025-06-10T08:49:23.568062Z"
    }
   },
   "outputs": [
    {
     "name": "stdout",
     "output_type": "stream",
     "text": [
      "Missing values per column:\n",
      "Unnamed: 0                  0\n",
      "Tweet                       0\n",
      "Followers                   0\n",
      "Friends                     1\n",
      "Num_tweets                  0\n",
      "Verified                    0\n",
      "Listed_count                0\n",
      "Location                    1\n",
      "Age                         0\n",
      "Length                      0\n",
      "Num_users                   0\n",
      "Num_author_replies          0\n",
      "TOXICITY_x                  0\n",
      "Num_toxic_direct_replies    0\n",
      "Num_toxic_nested_replies    0\n",
      "Num_author_toxic_replies    0\n",
      "Num_toxic_replies           0\n",
      "Toxic                       0\n",
      "dtype: int64\n",
      "\n",
      "Total rows with missing values: 2\n",
      "\n",
      "Rows removed: 2\n",
      "Remaining rows: 28821\n"
     ]
    }
   ],
   "source": [
    "# Check for missing values before removal\n",
    "print(\"Missing values per column:\")\n",
    "missing_before = df.isnull().sum()\n",
    "print(missing_before)\n",
    "total_missing_rows = df.isnull().any(axis=1).sum()\n",
    "print(f\"\\nTotal rows with missing values: {total_missing_rows}\")\n",
    "\n",
    "# Remove rows containing missing values\n",
    "df_clean = df.dropna()\n",
    "rows_removed = len(df) - len(df_clean)\n",
    "print(f\"\\nRows removed: {rows_removed}\")\n",
    "print(f\"Remaining rows: {len(df_clean)}\")\n",
    "\n",
    "# Update df to the cleaned version\n",
    "df = df_clean.copy()"
   ]
  },
  {
   "cell_type": "markdown",
   "id": "2779d6cc",
   "metadata": {},
   "source": [
    "**Interpretation:** The dataset had missing values that needed to be removed. After cleaning, we removed the rows containing missing values and now have a complete dataset for analysis."
   ]
  },
  {
   "cell_type": "markdown",
   "id": "11b526b9",
   "metadata": {},
   "source": [
    "## Step 5: Duplicate Removal"
   ]
  },
  {
   "cell_type": "code",
   "execution_count": 6,
   "id": "f45dd51c",
   "metadata": {
    "execution": {
     "iopub.execute_input": "2025-06-10T08:49:23.570710Z",
     "iopub.status.busy": "2025-06-10T08:49:23.570485Z",
     "iopub.status.idle": "2025-06-10T08:49:23.597546Z",
     "shell.execute_reply": "2025-06-10T08:49:23.596598Z"
    }
   },
   "outputs": [
    {
     "name": "stdout",
     "output_type": "stream",
     "text": [
      "Number of duplicate rows: 3\n",
      "Duplicated rows removed: 3\n",
      "Final dataset size: (28818, 18)\n"
     ]
    }
   ],
   "source": [
    "# Check for duplicates and remove them\n",
    "print(f\"Number of duplicate rows: {df.duplicated().sum()}\")\n",
    "df_no_duplicates = df.drop_duplicates(keep='first')\n",
    "duplicates_removed = len(df) - len(df_no_duplicates)\n",
    "print(f\"Duplicated rows removed: {duplicates_removed}\")\n",
    "print(f\"Final dataset size: {df_no_duplicates.shape}\")\n",
    "\n",
    "# Update df to the version without duplicates\n",
    "df = df_no_duplicates.copy()"
   ]
  },
  {
   "cell_type": "markdown",
   "id": "3c77bd17",
   "metadata": {},
   "source": [
    "**Interpretation:** After removing duplicate rows, we now have a clean dataset ready for analysis. The number of duplicate rows removed helps us understand data quality."
   ]
  },
  {
   "cell_type": "markdown",
   "id": "7a043e81",
   "metadata": {},
   "source": [
    "## Step 6: Toxicity Transformation"
   ]
  },
  {
   "cell_type": "code",
   "execution_count": 7,
   "id": "1e44f8dc",
   "metadata": {
    "execution": {
     "iopub.execute_input": "2025-06-10T08:49:23.600213Z",
     "iopub.status.busy": "2025-06-10T08:49:23.599957Z",
     "iopub.status.idle": "2025-06-10T08:49:23.605559Z",
     "shell.execute_reply": "2025-06-10T08:49:23.604881Z"
    }
   },
   "outputs": [
    {
     "name": "stdout",
     "output_type": "stream",
     "text": [
      "TOXICITY_x column transformed to binary as Toxicity_binary:\n",
      "Toxicity_binary\n",
      "0    25812\n",
      "1     3006\n",
      "Name: count, dtype: int64\n",
      "\n",
      "First 10 values of transformed Toxicity_binary: [0, 0, 0, 0, 0, 0, 0, 0, 0, 1]\n"
     ]
    }
   ],
   "source": [
    "# Transform the TOXICITY_x column to binary (if >= 0.5, make it 1; if < 0.5, make it 0)\n",
    "df['Toxicity_binary'] = (df['TOXICITY_x'] >= 0.5).astype(int)\n",
    "print(\"TOXICITY_x column transformed to binary as Toxicity_binary:\")\n",
    "print(df['Toxicity_binary'].value_counts())\n",
    "print(f\"\\nFirst 10 values of transformed Toxicity_binary: {df['Toxicity_binary'].head(10).tolist()}\")"
   ]
  },
  {
   "cell_type": "markdown",
   "id": "f928829c",
   "metadata": {},
   "source": [
    "## Step 7: Total Toxic Replies"
   ]
  },
  {
   "cell_type": "code",
   "execution_count": 8,
   "id": "c1df2073",
   "metadata": {
    "execution": {
     "iopub.execute_input": "2025-06-10T08:49:23.607580Z",
     "iopub.status.busy": "2025-06-10T08:49:23.607403Z",
     "iopub.status.idle": "2025-06-10T08:49:23.616531Z",
     "shell.execute_reply": "2025-06-10T08:49:23.615949Z"
    }
   },
   "outputs": [
    {
     "name": "stdout",
     "output_type": "stream",
     "text": [
      "Total_toxic_replies column created:\n",
      "count    28818.000000\n",
      "mean         0.408911\n",
      "std          1.807602\n",
      "min          0.000000\n",
      "25%          0.000000\n",
      "50%          0.000000\n",
      "75%          0.750000\n",
      "max        177.000000\n",
      "Name: Total_toxic_replies, dtype: float64\n",
      "\n",
      "First 10 values: [0.0, 0.0, 0.0, 0.0, 0.0, 0.0, 1.0, 0.0, 0.0, 0.0]\n"
     ]
    }
   ],
   "source": [
    "# Create a new column named Total_toxic_replies (sum of Num_toxic_direct_replies and Num_toxic_nested_replies)\n",
    "df['Total_toxic_replies'] = df['Num_toxic_direct_replies'] + df['Num_toxic_nested_replies']\n",
    "print(\"Total_toxic_replies column created:\")\n",
    "print(df['Total_toxic_replies'].describe())\n",
    "print(f\"\\nFirst 10 values: {df['Total_toxic_replies'].head(10).tolist()}\")"
   ]
  },
  {
   "cell_type": "markdown",
   "id": "053b280f",
   "metadata": {},
   "source": [
    "## Step 8: Toxic Conversation"
   ]
  },
  {
   "cell_type": "code",
   "execution_count": 9,
   "id": "421b0568",
   "metadata": {
    "execution": {
     "iopub.execute_input": "2025-06-10T08:49:23.618809Z",
     "iopub.status.busy": "2025-06-10T08:49:23.618514Z",
     "iopub.status.idle": "2025-06-10T08:49:23.624533Z",
     "shell.execute_reply": "2025-06-10T08:49:23.624078Z"
    }
   },
   "outputs": [
    {
     "name": "stdout",
     "output_type": "stream",
     "text": [
      "Toxic_conversation column created:\n",
      "Toxic_conversation\n",
      "0    21613\n",
      "1     7205\n",
      "Name: count, dtype: int64\n",
      "\n",
      "First 10 values: [0, 0, 0, 0, 0, 0, 1, 0, 0, 0]\n"
     ]
    }
   ],
   "source": [
    "# Create a new column named Toxic_conversation (1 if Total_toxic_replies > 0, otherwise 0)\n",
    "df['Toxic_conversation'] = (df['Total_toxic_replies'] > 0).astype(int)\n",
    "print(\"Toxic_conversation column created:\")\n",
    "print(df['Toxic_conversation'].value_counts())\n",
    "print(f\"\\nFirst 10 values: {df['Toxic_conversation'].head(10).tolist()}\")"
   ]
  },
  {
   "cell_type": "markdown",
   "id": "5e00752f",
   "metadata": {},
   "source": [
    "## Step 9: Conversation Length Statistics"
   ]
  },
  {
   "cell_type": "code",
   "execution_count": 10,
   "id": "25b2f763",
   "metadata": {
    "execution": {
     "iopub.execute_input": "2025-06-10T08:49:23.627009Z",
     "iopub.status.busy": "2025-06-10T08:49:23.626586Z",
     "iopub.status.idle": "2025-06-10T08:49:23.633788Z",
     "shell.execute_reply": "2025-06-10T08:49:23.633350Z"
    }
   },
   "outputs": [
    {
     "name": "stdout",
     "output_type": "stream",
     "text": [
      "Descriptive statistics of conversation lengths:\n",
      "count    28818.000000\n",
      "mean         8.528906\n",
      "std         29.007414\n",
      "min          1.000000\n",
      "25%          2.000000\n",
      "50%          4.000000\n",
      "75%          7.000000\n",
      "max       1689.000000\n",
      "Name: Length, dtype: float64\n"
     ]
    }
   ],
   "source": [
    "# Get descriptive statistics of conversation lengths\n",
    "length_stats = df['Length'].describe()\n",
    "print(\"Descriptive statistics of conversation lengths:\")\n",
    "print(length_stats)"
   ]
  },
  {
   "cell_type": "markdown",
   "id": "7e16e485",
   "metadata": {},
   "source": [
    "**Interpretation:** The mean conversation length shows us the average number of tweets in conversations. This helps us understand the typical engagement level in Twitter conversations in our dataset."
   ]
  },
  {
   "cell_type": "markdown",
   "id": "a06c4f1a",
   "metadata": {},
   "source": [
    "## Step 10: Unique Users Statistics"
   ]
  },
  {
   "cell_type": "code",
   "execution_count": 11,
   "id": "171f0a9d",
   "metadata": {
    "execution": {
     "iopub.execute_input": "2025-06-10T08:49:23.636293Z",
     "iopub.status.busy": "2025-06-10T08:49:23.636055Z",
     "iopub.status.idle": "2025-06-10T08:49:23.642115Z",
     "shell.execute_reply": "2025-06-10T08:49:23.641442Z"
    }
   },
   "outputs": [
    {
     "name": "stdout",
     "output_type": "stream",
     "text": [
      "Descriptive statistics of number of unique users in conversations:\n",
      "count    28818.000000\n",
      "mean         5.664064\n",
      "std         20.054350\n",
      "min          1.000000\n",
      "25%          2.000000\n",
      "50%          2.000000\n",
      "75%          4.000000\n",
      "max        925.000000\n",
      "Name: Num_users, dtype: float64\n"
     ]
    }
   ],
   "source": [
    "# Get descriptive statistics of number of unique users in conversations\n",
    "users_stats = df['Num_users'].describe()\n",
    "print(\"Descriptive statistics of number of unique users in conversations:\")\n",
    "print(users_stats)"
   ]
  },
  {
   "cell_type": "markdown",
   "id": "b78ca4b2",
   "metadata": {},
   "source": [
    "**Interpretation:** The quartile values show the distribution of user participation in conversations. The 25th percentile, median (50th percentile), and 75th percentile help us understand how many unique users typically participate in conversations."
   ]
  },
  {
   "cell_type": "markdown",
   "id": "bb47814a",
   "metadata": {},
   "source": [
    "## Step 11: Boxplots"
   ]
  },
  {
   "cell_type": "code",
   "execution_count": 12,
   "id": "3215032c",
   "metadata": {
    "execution": {
     "iopub.execute_input": "2025-06-10T08:49:23.646453Z",
     "iopub.status.busy": "2025-06-10T08:49:23.645959Z",
     "iopub.status.idle": "2025-06-10T08:49:24.066326Z",
     "shell.execute_reply": "2025-06-10T08:49:24.065725Z"
    }
   },
   "outputs": [
    {
     "data": {
      "image/png": "[encoded data removed]",
      "text/plain": [
       "<Figure size 1500x600 with 2 Axes>"
      ]
     },
     "metadata": {},
     "output_type": "display_data"
    }
   ],
   "source": [
    "# Create boxplots for length and number of unique users in conversations\n",
    "fig, axes = plt.subplots(1, 2, figsize=(15, 6))\n",
    "\n",
    "# Boxplot for Length\n",
    "axes[0].boxplot(df['Length'])\n",
    "axes[0].set_title('Boxplot of Conversation Length')\n",
    "axes[0].set_ylabel('Length')\n",
    "\n",
    "# Boxplot for Num_users\n",
    "axes[1].boxplot(df['Num_users'])\n",
    "axes[1].set_title('Boxplot of Number of Unique Users')\n",
    "axes[1].set_ylabel('Number of Users')\n",
    "\n",
    "plt.tight_layout()\n",
    "plt.show()"
   ]
  },
  {
   "cell_type": "markdown",
   "id": "0afa6b6f",
   "metadata": {},
   "source": [
    "## Step 12: Toxic Replies Histogram"
   ]
  },
  {
   "cell_type": "code",
   "execution_count": 13,
   "id": "0849be15",
   "metadata": {
    "execution": {
     "iopub.execute_input": "2025-06-10T08:49:24.069032Z",
     "iopub.status.busy": "2025-06-10T08:49:24.068829Z",
     "iopub.status.idle": "2025-06-10T08:49:24.176228Z",
     "shell.execute_reply": "2025-06-10T08:49:24.175491Z"
    }
   },
   "outputs": [
    {
     "data": {
      "image/png": "[encoded data removed]",
      "text/plain": [
       "<Figure size 1200x600 with 1 Axes>"
      ]
     },
     "metadata": {},
     "output_type": "display_data"
    }
   ],
   "source": [
    "# Create a histogram of Total_toxic_replies\n",
    "plt.figure(figsize=(12, 6))\n",
    "plt.hist(df['Total_toxic_replies'], bins=50, edgecolor='black', alpha=0.7)\n",
    "plt.title('Histogram of Total Toxic Replies')\n",
    "plt.xlabel('Total Toxic Replies')\n",
    "plt.ylabel('Frequency')\n",
    "plt.grid(True, alpha=0.3)\n",
    "plt.show()"
   ]
  },
  {
   "cell_type": "markdown",
   "id": "f80c05af",
   "metadata": {},
   "source": [
    "**Interpretation:** The distribution of total toxic replies shows how toxicity is distributed across conversations. This helps us understand the frequency and pattern of toxic content in Twitter conversations."
   ]
  },
  {
   "cell_type": "markdown",
   "id": "f40c7df9",
   "metadata": {},
   "source": [
    "## Step 13: Toxic Conversation Count"
   ]
  },
  {
   "cell_type": "code",
   "execution_count": 14,
   "id": "c2ab39cc",
   "metadata": {
    "execution": {
     "iopub.execute_input": "2025-06-10T08:49:24.180734Z",
     "iopub.status.busy": "2025-06-10T08:49:24.180505Z",
     "iopub.status.idle": "2025-06-10T08:49:24.187252Z",
     "shell.execute_reply": "2025-06-10T08:49:24.186510Z"
    }
   },
   "outputs": [
    {
     "name": "stdout",
     "output_type": "stream",
     "text": [
      "Value counts for Toxic_conversation:\n",
      "Toxic_conversation\n",
      "0    21613\n",
      "1     7205\n",
      "Name: count, dtype: int64\n",
      "\n",
      "Percentage breakdown:\n",
      "Toxic_conversation\n",
      "0    74.998265\n",
      "1    25.001735\n",
      "Name: proportion, dtype: float64\n"
     ]
    }
   ],
   "source": [
    "# Get value count for Toxic_conversation\n",
    "toxic_counts = df['Toxic_conversation'].value_counts()\n",
    "print(\"Value counts for Toxic_conversation:\")\n",
    "print(toxic_counts)\n",
    "print(f\"\\nPercentage breakdown:\")\n",
    "print(df['Toxic_conversation'].value_counts(normalize=True) * 100)"
   ]
  },
  {
   "cell_type": "markdown",
   "id": "ed3aab74",
   "metadata": {},
   "source": [
    "**Interpretation:** This shows us how many conversations contain toxic replies versus those that don't, giving us insight into the prevalence of toxicity in Twitter conversations."
   ]
  },
  {
   "cell_type": "markdown",
   "id": "2455e909",
   "metadata": {},
   "source": [
    "## Step 14: Author Replies Histogram"
   ]
  },
  {
   "cell_type": "code",
   "execution_count": 15,
   "id": "078e6718",
   "metadata": {
    "execution": {
     "iopub.execute_input": "2025-06-10T08:49:24.189636Z",
     "iopub.status.busy": "2025-06-10T08:49:24.189411Z",
     "iopub.status.idle": "2025-06-10T08:49:24.296161Z",
     "shell.execute_reply": "2025-06-10T08:49:24.294971Z"
    }
   },
   "outputs": [
    {
     "data": {
      "image/png": "[encoded data removed]",
      "text/plain": [
       "<Figure size 1200x600 with 1 Axes>"
      ]
     },
     "metadata": {},
     "output_type": "display_data"
    }
   ],
   "source": [
    "# Create a histogram of Num_author_replies\n",
    "plt.figure(figsize=(12, 6))\n",
    "plt.hist(df['Num_author_replies'], bins=50, edgecolor='black', alpha=0.7)\n",
    "plt.title('Histogram of Number of Author Replies')\n",
    "plt.xlabel('Number of Author Replies')\n",
    "plt.ylabel('Frequency')\n",
    "plt.grid(True, alpha=0.3)\n",
    "plt.show()"
   ]
  },
  {
   "cell_type": "markdown",
   "id": "cb2aa634",
   "metadata": {},
   "source": [
    "**Interpretation:** The distribution shows how often original tweet authors engage in their own conversation threads by replying. This reveals engagement patterns of content creators."
   ]
  },
  {
   "cell_type": "markdown",
   "id": "6b1c1aab",
   "metadata": {},
   "source": [
    "## Step 15: Account Age Histogram"
   ]
  },
  {
   "cell_type": "code",
   "execution_count": 16,
   "id": "2a333f9a",
   "metadata": {
    "execution": {
     "iopub.execute_input": "2025-06-10T08:49:24.299415Z",
     "iopub.status.busy": "2025-06-10T08:49:24.299138Z",
     "iopub.status.idle": "2025-06-10T08:49:24.412637Z",
     "shell.execute_reply": "2025-06-10T08:49:24.411088Z"
    }
   },
   "outputs": [
    {
     "data": {
      "image/png": "[encoded data removed]",
      "text/plain": [
       "<Figure size 1200x600 with 1 Axes>"
      ]
     },
     "metadata": {},
     "output_type": "display_data"
    }
   ],
   "source": [
    "# Create a histogram of users' account age\n",
    "plt.figure(figsize=(12, 6))\n",
    "plt.hist(df['Age'], bins=50, edgecolor='black', alpha=0.7)\n",
    "plt.title('Histogram of Account Age')\n",
    "plt.xlabel('Account Age')\n",
    "plt.ylabel('Frequency')\n",
    "plt.grid(True, alpha=0.3)\n",
    "plt.show()"
   ]
  },
  {
   "cell_type": "markdown",
   "id": "2ef916d2",
   "metadata": {},
   "source": [
    "**Interpretation:** The distribution of account ages shows the maturity of Twitter accounts in our dataset, which can be related to user experience and behavior patterns."
   ]
  },
  {
   "cell_type": "markdown",
   "id": "96d390e3",
   "metadata": {},
   "source": [
    "## Step 16: Toxic vs Non-toxic Length"
   ]
  },
  {
   "cell_type": "code",
   "execution_count": 17,
   "id": "200928fb",
   "metadata": {
    "execution": {
     "iopub.execute_input": "2025-06-10T08:49:24.415270Z",
     "iopub.status.busy": "2025-06-10T08:49:24.415071Z",
     "iopub.status.idle": "2025-06-10T08:49:24.420745Z",
     "shell.execute_reply": "2025-06-10T08:49:24.420324Z"
    }
   },
   "outputs": [
    {
     "name": "stdout",
     "output_type": "stream",
     "text": [
      "Mean length of conversations by toxicity:\n",
      "Toxic_conversation\n",
      "0     5.412483\n",
      "1    17.877307\n",
      "Name: Length, dtype: float64\n",
      "\n",
      "Non-toxic conversations (0): 5.41\n",
      "Toxic conversations (1): 17.88\n"
     ]
    }
   ],
   "source": [
    "# Using groupby, find mean length of toxic vs. non-toxic conversations\n",
    "length_by_toxicity = df.groupby('Toxic_conversation')['Length'].mean()\n",
    "print(\"Mean length of conversations by toxicity:\")\n",
    "print(length_by_toxicity)\n",
    "print(f\"\\nNon-toxic conversations (0): {length_by_toxicity[0]:.2f}\")\n",
    "print(f\"Toxic conversations (1): {length_by_toxicity[1]:.2f}\")"
   ]
  },
  {
   "cell_type": "markdown",
   "id": "69ac91c9",
   "metadata": {},
   "source": [
    "**Interpretation:** Comparing the mean lengths shows us whether toxic conversations tend to be longer or shorter than non-toxic ones, which can indicate different engagement patterns."
   ]
  },
  {
   "cell_type": "markdown",
   "id": "c4e9e62e",
   "metadata": {},
   "source": [
    "## Step 17: Verified vs Non-verified Followers"
   ]
  },
  {
   "cell_type": "code",
   "execution_count": 18,
   "id": "68ddc7fb",
   "metadata": {
    "execution": {
     "iopub.execute_input": "2025-06-10T08:49:24.422733Z",
     "iopub.status.busy": "2025-06-10T08:49:24.422533Z",
     "iopub.status.idle": "2025-06-10T08:49:24.429631Z",
     "shell.execute_reply": "2025-06-10T08:49:24.428358Z"
    }
   },
   "outputs": [
    {
     "name": "stdout",
     "output_type": "stream",
     "text": [
      "Mean number of followers by verification status:\n",
      "Verified\n",
      "False      6022.879054\n",
      "True     572177.384670\n",
      "Name: Followers, dtype: float64\n",
      "\n",
      "Non-verified users (0): 6022.88\n",
      "Verified users (1): 572177.38\n"
     ]
    }
   ],
   "source": [
    "# Using groupby, find mean number of followers of verified vs. non-verified users\n",
    "followers_by_verification = df.groupby('Verified')['Followers'].mean()\n",
    "print(\"Mean number of followers by verification status:\")\n",
    "print(followers_by_verification)\n",
    "print(f\"\\nNon-verified users (0): {followers_by_verification[0]:.2f}\")\n",
    "print(f\"Verified users (1): {followers_by_verification[1]:.2f}\")"
   ]
  },
  {
   "cell_type": "markdown",
   "id": "02d2781a",
   "metadata": {},
   "source": [
    "**Interpretation:** This comparison shows the significant difference in follower counts between verified and non-verified users, as expected since verification is typically given to notable accounts."
   ]
  },
  {
   "cell_type": "markdown",
   "id": "91f87e6e",
   "metadata": {},
   "source": [
    "## Step 18: Tweets by Account Age"
   ]
  },
  {
   "cell_type": "code",
   "execution_count": 19,
   "id": "d5d95e08",
   "metadata": {
    "execution": {
     "iopub.execute_input": "2025-06-10T08:49:24.432441Z",
     "iopub.status.busy": "2025-06-10T08:49:24.432232Z",
     "iopub.status.idle": "2025-06-10T08:49:24.561785Z",
     "shell.execute_reply": "2025-06-10T08:49:24.560417Z"
    }
   },
   "outputs": [
    {
     "name": "stdout",
     "output_type": "stream",
     "text": [
      "Mean tweets by account age (first 10 rows):\n",
      "   Age   mean_tweets\n",
      "0    0   5373.940649\n",
      "1    1  15108.871605\n",
      "2    2  20949.909438\n",
      "3    3  24357.895632\n",
      "4    4  28330.858776\n",
      "5    5  33349.213127\n",
      "6    6  31184.233864\n",
      "7    7  41906.631313\n",
      "8    8  42550.933219\n",
      "9    9  52964.504365\n"
     ]
    },
    {
     "data": {
      "image/png": "[encoded data removed]",
      "text/plain": [
       "<Figure size 1500x800 with 1 Axes>"
      ]
     },
     "metadata": {},
     "output_type": "display_data"
    }
   ],
   "source": [
    "# Using groupby, get mean number of posted tweets by main user for each account age\n",
    "tweets_by_age = df.groupby('Age')['Num_tweets'].mean().reset_index()\n",
    "tweets_by_age.columns = ['Age', 'mean_tweets']\n",
    "print(\"Mean tweets by account age (first 10 rows):\")\n",
    "print(tweets_by_age.head(10))\n",
    "\n",
    "# Plot bar chart with account age on x-axis and mean_tweets on y-axis\n",
    "plt.figure(figsize=(15, 8))\n",
    "plt.bar(tweets_by_age['Age'], tweets_by_age['mean_tweets'], alpha=0.7)\n",
    "plt.title('Mean Number of Tweets by Account Age')\n",
    "plt.xlabel('Account Age')\n",
    "plt.ylabel('Mean Number of Tweets')\n",
    "plt.xticks(rotation=45)\n",
    "plt.grid(True, alpha=0.3)\n",
    "plt.tight_layout()\n",
    "plt.show()"
   ]
  },
  {
   "cell_type": "markdown",
   "id": "1a7bf7d9",
   "metadata": {},
   "source": [
    "**Interpretation:** The bar chart shows the relationship between account age and tweeting activity. This reveals how user activity patterns change with account maturity."
   ]
  },
  {
   "cell_type": "markdown",
   "id": "e45a9a01",
   "metadata": {},
   "source": [
    "## Step 19: Crosstab Analysis"
   ]
  },
  {
   "cell_type": "code",
   "execution_count": 20,
   "id": "e050a3ea",
   "metadata": {
    "execution": {
     "iopub.execute_input": "2025-06-10T08:49:24.564810Z",
     "iopub.status.busy": "2025-06-10T08:49:24.564603Z",
     "iopub.status.idle": "2025-06-10T08:49:24.612052Z",
     "shell.execute_reply": "2025-06-10T08:49:24.610681Z"
    }
   },
   "outputs": [
    {
     "name": "stdout",
     "output_type": "stream",
     "text": [
      "Crosstab of Toxic_conversation and Verified:\n",
      "Verified            False  True    All\n",
      "Toxic_conversation                    \n",
      "0                   20802   811  21613\n",
      "1                    6607   598   7205\n",
      "All                 27409  1409  28818\n",
      "\n",
      "Percentage breakdown by row:\n",
      "Verified                False     True \n",
      "Toxic_conversation                     \n",
      "0                   96.247629  3.752371\n",
      "1                   91.700208  8.299792\n"
     ]
    }
   ],
   "source": [
    "# Create a crosstab of Toxic_conversation and verified columns\n",
    "crosstab_result = pd.crosstab(df['Toxic_conversation'], df['Verified'], margins=True)\n",
    "print(\"Crosstab of Toxic_conversation and Verified:\")\n",
    "print(crosstab_result)\n",
    "\n",
    "# Calculate percentages\n",
    "crosstab_pct = pd.crosstab(df['Toxic_conversation'], df['Verified'], normalize='index') * 100\n",
    "print(\"\\nPercentage breakdown by row:\")\n",
    "print(crosstab_pct)"
   ]
  },
  {
   "cell_type": "markdown",
   "id": "7ef9d469",
   "metadata": {},
   "source": [
    "**Interpretation:** The crosstab shows the relationship between conversation toxicity and user verification status, revealing whether verified users are more or less likely to be involved in toxic conversations."
   ]
  },
  {
   "cell_type": "markdown",
   "id": "70c9e8a9",
   "metadata": {},
   "source": [
    "## Step 20: Chi-square Test"
   ]
  },
  {
   "cell_type": "code",
   "execution_count": 21,
   "id": "bde497af",
   "metadata": {
    "execution": {
     "iopub.execute_input": "2025-06-10T08:49:24.615874Z",
     "iopub.status.busy": "2025-06-10T08:49:24.615616Z",
     "iopub.status.idle": "2025-06-10T08:49:24.626933Z",
     "shell.execute_reply": "2025-06-10T08:49:24.625834Z"
    }
   },
   "outputs": [
    {
     "name": "stdout",
     "output_type": "stream",
     "text": [
      "Contingency table for Chi-square test:\n",
      "Verified            False  True \n",
      "Toxic_conversation              \n",
      "0                   20802    811\n",
      "1                    6607    598\n",
      "\n",
      "Chi-square test results:\n",
      "Chi-square statistic: 239.3149\n",
      "P-value: 0.0000\n",
      "Degrees of freedom: 1\n",
      "\n",
      "Expected frequencies:\n",
      "[[20556.27444653  1056.72555347]\n",
      " [ 6852.72555347   352.27444653]]\n",
      "\n",
      "At alpha = 0.05:\n",
      "Reject H0: There is a significant association between toxicity and verification status\n"
     ]
    }
   ],
   "source": [
    "# Using the frequency table, run Chi-square test\n",
    "# Create contingency table (without margins)\n",
    "contingency_table = pd.crosstab(df['Toxic_conversation'], df['Verified'])\n",
    "print(\"Contingency table for Chi-square test:\")\n",
    "print(contingency_table)\n",
    "\n",
    "# Perform Chi-square test\n",
    "chi2_stat, p_value, dof, expected = chi2_contingency(contingency_table)\n",
    "\n",
    "print(f\"\\nChi-square test results:\")\n",
    "print(f\"Chi-square statistic: {chi2_stat:.4f}\")\n",
    "print(f\"P-value: {p_value:.4f}\")\n",
    "print(f\"Degrees of freedom: {dof}\")\n",
    "print(f\"\\nExpected frequencies:\")\n",
    "print(expected)\n",
    "\n",
    "alpha = 0.05\n",
    "print(f\"\\nAt alpha = {alpha}:\")\n",
    "if p_value < alpha:\n",
    "    print(\"Reject H0: There is a significant association between toxicity and verification status\")\n",
    "else:\n",
    "    print(\"Fail to reject H0: No significant association between toxicity and verification status\")"
   ]
  },
  {
   "cell_type": "markdown",
   "id": "a1f48a7f",
   "metadata": {},
   "source": [
    "**Interpretation:** \n",
    "- **Null Hypothesis (H0)**: There is no association between conversation toxicity and user verification status\n",
    "- **Alternative Hypothesis (H1)**: There is an association between conversation toxicity and user verification status\n",
    "\n",
    "The results suggest whether we should reject or fail to reject H0 based on the p-value and significance level."
   ]
  },
  {
   "cell_type": "markdown",
   "id": "00cba32b",
   "metadata": {},
   "source": [
    "## Step 21: Data Splitting"
   ]
  },
  {
   "cell_type": "code",
   "execution_count": 22,
   "id": "37998669",
   "metadata": {
    "execution": {
     "iopub.execute_input": "2025-06-10T08:49:24.630789Z",
     "iopub.status.busy": "2025-06-10T08:49:24.630519Z",
     "iopub.status.idle": "2025-06-10T08:49:24.646647Z",
     "shell.execute_reply": "2025-06-10T08:49:24.645319Z"
    }
   },
   "outputs": [
    {
     "name": "stdout",
     "output_type": "stream",
     "text": [
      "Toxic conversations dataframe:\n",
      "Shape: (7205, 21)\n",
      "    Unnamed: 0                Tweet  Followers  Friends  Num_tweets  Verified  \\\n",
      "6            6  1433964061402746882       3467    196.0       10847     False   \n",
      "13          13  1427325560296919048        161    107.0        2781     False   \n",
      "15          15  1431806935079088135        150    203.0        2428     False   \n",
      "26          26  1434938389833261059        729    739.0       21546     False   \n",
      "33          33  1437598794934374401        304    625.0         465     False   \n",
      "\n",
      "    Listed_count Location  Age  Length  ...  Num_author_replies  TOXICITY_x  \\\n",
      "6             38     True    0      18  ...                   6    0.020607   \n",
      "13             0    False    2       2  ...                   0    0.471199   \n",
      "15             4    False    0       2  ...                   0    0.597204   \n",
      "26             1     True    9       3  ...                   1    0.149503   \n",
      "33             0     True    0       7  ...                   1    0.820483   \n",
      "\n",
      "    Num_toxic_direct_replies  Num_toxic_nested_replies  \\\n",
      "6                        0.0                       1.0   \n",
      "13                       1.0                       0.0   \n",
      "15                       1.0                       0.0   \n",
      "26                       1.0                       0.0   \n",
      "33                       1.0                       0.0   \n",
      "\n",
      "    Num_author_toxic_replies  Num_toxic_replies  Toxic  Toxicity_binary  \\\n",
      "6                        0.0                1.0      1                0   \n",
      "13                       0.0                1.0      1                0   \n",
      "15                       0.0                1.0      1                1   \n",
      "26                       0.0                1.0      1                0   \n",
      "33                       0.0                1.0      1                1   \n",
      "\n",
      "    Total_toxic_replies  Toxic_conversation  \n",
      "6                   1.0                   1  \n",
      "13                  1.0                   1  \n",
      "15                  1.0                   1  \n",
      "26                  1.0                   1  \n",
      "33                  1.0                   1  \n",
      "\n",
      "[5 rows x 21 columns]\n",
      "\n",
      "==================================================\n",
      "\n",
      "Non-toxic conversations dataframe:\n",
      "Shape: (21613, 21)\n",
      "   Unnamed: 0                Tweet  Followers  Friends  Num_tweets  Verified  \\\n",
      "0           0  1441497018807906305       1198    605.0        6166     False   \n",
      "1           1  1431812786099613699        608   1259.0        1811     False   \n",
      "2           2  1426644707313135617        173    167.0        4306     False   \n",
      "3           3  1431814908425998337       2540    222.0        6008     False   \n",
      "4           4  1432862687533441027       4439     11.0        9985     False   \n",
      "\n",
      "   Listed_count Location  Age  Length  ...  Num_author_replies  TOXICITY_x  \\\n",
      "0             1     True    7       6  ...                   2    0.235235   \n",
      "1             5     True    2       2  ...                   0    0.085582   \n",
      "2             0     True    0       4  ...                   2    0.076877   \n",
      "3             0     True    9       2  ...                   0    0.095684   \n",
      "4            55     True    2       4  ...                   1    0.165919   \n",
      "\n",
      "   Num_toxic_direct_replies  Num_toxic_nested_replies  \\\n",
      "0                       0.0                       0.0   \n",
      "1                       0.0                       0.0   \n",
      "2                       0.0                       0.0   \n",
      "3                       0.0                       0.0   \n",
      "4                       0.0                       0.0   \n",
      "\n",
      "   Num_author_toxic_replies  Num_toxic_replies  Toxic  Toxicity_binary  \\\n",
      "0                       0.0                0.0      0                0   \n",
      "1                       0.0                0.0      0                0   \n",
      "2                       0.0                0.0      0                0   \n",
      "3                       0.0                0.0      0                0   \n",
      "4                       0.0                0.0      0                0   \n",
      "\n",
      "   Total_toxic_replies  Toxic_conversation  \n",
      "0                  0.0                   0  \n",
      "1                  0.0                   0  \n",
      "2                  0.0                   0  \n",
      "3                  0.0                   0  \n",
      "4                  0.0                   0  \n",
      "\n",
      "[5 rows x 21 columns]\n"
     ]
    }
   ],
   "source": [
    "# Split dataframe into two: one with toxic conversations, one with non-toxic conversations\n",
    "toxic_conversations = df[df['Toxic_conversation'] == 1]\n",
    "non_toxic_conversations = df[df['Toxic_conversation'] == 0]\n",
    "\n",
    "print(\"Toxic conversations dataframe:\")\n",
    "print(f\"Shape: {toxic_conversations.shape}\")\n",
    "print(toxic_conversations.head())\n",
    "\n",
    "print(\"\\n\" + \"=\"*50 + \"\\n\")\n",
    "\n",
    "print(\"Non-toxic conversations dataframe:\")\n",
    "print(f\"Shape: {non_toxic_conversations.shape}\")\n",
    "print(non_toxic_conversations.head())"
   ]
  },
  {
   "cell_type": "markdown",
   "id": "3651c90e",
   "metadata": {},
   "source": [
    "## Step 22: Toxic Conversation Length Histogram"
   ]
  },
  {
   "cell_type": "code",
   "execution_count": 23,
   "id": "90381db8",
   "metadata": {
    "execution": {
     "iopub.execute_input": "2025-06-10T08:49:24.649361Z",
     "iopub.status.busy": "2025-06-10T08:49:24.649120Z",
     "iopub.status.idle": "2025-06-10T08:49:24.764600Z",
     "shell.execute_reply": "2025-06-10T08:49:24.763758Z"
    }
   },
   "outputs": [
    {
     "data": {
      "image/png": "[encoded data removed]",
      "text/plain": [
       "<Figure size 1200x600 with 1 Axes>"
      ]
     },
     "metadata": {},
     "output_type": "display_data"
    }
   ],
   "source": [
    "# Plot histogram of conversation length of toxic conversations\n",
    "plt.figure(figsize=(12, 6))\n",
    "plt.hist(toxic_conversations['Length'], bins=50, edgecolor='black', alpha=0.7, color='red')\n",
    "plt.title('Histogram of Conversation Length - Toxic Conversations')\n",
    "plt.xlabel('Conversation Length')\n",
    "plt.ylabel('Frequency')\n",
    "plt.grid(True, alpha=0.3)\n",
    "plt.show()"
   ]
  },
  {
   "cell_type": "markdown",
   "id": "0e1f6063",
   "metadata": {},
   "source": [
    "**Interpretation:** The distribution shows how conversation lengths are distributed specifically for toxic conversations, revealing patterns in the engagement levels of problematic discussions."
   ]
  },
  {
   "cell_type": "markdown",
   "id": "f029cf98",
   "metadata": {},
   "source": [
    "## Step 23: Non-toxic Conversation Length Histogram"
   ]
  },
  {
   "cell_type": "code",
   "execution_count": 24,
   "id": "1c29691d",
   "metadata": {
    "execution": {
     "iopub.execute_input": "2025-06-10T08:49:24.767142Z",
     "iopub.status.busy": "2025-06-10T08:49:24.766912Z",
     "iopub.status.idle": "2025-06-10T08:49:24.887782Z",
     "shell.execute_reply": "2025-06-10T08:49:24.887329Z"
    }
   },
   "outputs": [
    {
     "data": {
      "image/png": "[encoded data removed]",
      "text/plain": [
       "<Figure size 1200x600 with 1 Axes>"
      ]
     },
     "metadata": {},
     "output_type": "display_data"
    }
   ],
   "source": [
    "# Plot histogram of conversation length of non-toxic conversations\n",
    "plt.figure(figsize=(12, 6))\n",
    "plt.hist(non_toxic_conversations['Length'], bins=50, edgecolor='black', alpha=0.7, color='green')\n",
    "plt.title('Histogram of Conversation Length - Non-toxic Conversations')\n",
    "plt.xlabel('Conversation Length')\n",
    "plt.ylabel('Frequency')\n",
    "plt.grid(True, alpha=0.3)\n",
    "plt.show()"
   ]
  },
  {
   "cell_type": "markdown",
   "id": "3239aa4b",
   "metadata": {},
   "source": [
    "**Interpretation:** The distribution of non-toxic conversation lengths can be compared with Step 22 to identify differences in engagement patterns between toxic and non-toxic discussions. This comparison helps understand how conversation dynamics differ between the two types."
   ]
  },
  {
   "cell_type": "markdown",
   "id": "6e43d005",
   "metadata": {},
   "source": [
    "## Step 24: Mann-Whitney Test for Length"
   ]
  },
  {
   "cell_type": "code",
   "execution_count": 25,
   "id": "16533908",
   "metadata": {
    "execution": {
     "iopub.execute_input": "2025-06-10T08:49:24.889965Z",
     "iopub.status.busy": "2025-06-10T08:49:24.889741Z",
     "iopub.status.idle": "2025-06-10T08:49:24.899481Z",
     "shell.execute_reply": "2025-06-10T08:49:24.898512Z"
    }
   },
   "outputs": [
    {
     "name": "stdout",
     "output_type": "stream",
     "text": [
      "Mann-Whitney Test for Conversation Length:\n",
      "Mann-Whitney U statistic: 113183967.0000\n",
      "P-value: 0.0000\n",
      "\n",
      "Descriptive statistics:\n",
      "Toxic conversations - Median length: 7.00\n",
      "Non-toxic conversations - Median length: 3.00\n",
      "\n",
      "At alpha = 0.05:\n",
      "Reject H0: There is a significant difference in conversation lengths\n"
     ]
    }
   ],
   "source": [
    "# Run Mann-Whitney test to compare lengths of toxic vs. non-toxic conversations\n",
    "toxic_lengths = toxic_conversations['Length']\n",
    "non_toxic_lengths = non_toxic_conversations['Length']\n",
    "\n",
    "# Perform Mann-Whitney U test\n",
    "mw_stat, mw_p_value = mannwhitneyu(toxic_lengths, non_toxic_lengths, alternative='two-sided')\n",
    "\n",
    "print(\"Mann-Whitney Test for Conversation Length:\")\n",
    "print(f\"Mann-Whitney U statistic: {mw_stat:.4f}\")\n",
    "print(f\"P-value: {mw_p_value:.4f}\")\n",
    "\n",
    "print(f\"\\nDescriptive statistics:\")\n",
    "print(f\"Toxic conversations - Median length: {toxic_lengths.median():.2f}\")\n",
    "print(f\"Non-toxic conversations - Median length: {non_toxic_lengths.median():.2f}\")\n",
    "\n",
    "alpha = 0.05\n",
    "print(f\"\\nAt alpha = {alpha}:\")\n",
    "if mw_p_value < alpha:\n",
    "    print(\"Reject H0: There is a significant difference in conversation lengths\")\n",
    "else:\n",
    "    print(\"Fail to reject H0: No significant difference in conversation lengths\")"
   ]
  },
  {
   "cell_type": "markdown",
   "id": "381e1535",
   "metadata": {},
   "source": [
    "**Interpretation:**\n",
    "- **Null Hypothesis (H0)**: There is no difference in conversation lengths between toxic and non-toxic conversations\n",
    "- **Alternative Hypothesis (H1)**: There is a difference in conversation lengths between toxic and non-toxic conversations\n",
    "\n",
    "The test results indicate whether we should reject or fail to reject H0 based on the p-value."
   ]
  },
  {
   "cell_type": "markdown",
   "id": "311db6ea",
   "metadata": {},
   "source": [
    "## Step 25: Toxic Users Histogram"
   ]
  },
  {
   "cell_type": "code",
   "execution_count": 26,
   "id": "b6613d24",
   "metadata": {
    "execution": {
     "iopub.execute_input": "2025-06-10T08:49:24.901775Z",
     "iopub.status.busy": "2025-06-10T08:49:24.901522Z",
     "iopub.status.idle": "2025-06-10T08:49:25.025400Z",
     "shell.execute_reply": "2025-06-10T08:49:25.024949Z"
    }
   },
   "outputs": [
    {
     "data": {
      "image/png": "[encoded data removed]",
      "text/plain": [
       "<Figure size 1200x600 with 1 Axes>"
      ]
     },
     "metadata": {},
     "output_type": "display_data"
    }
   ],
   "source": [
    "# Plot histogram of number of unique users of toxic conversations\n",
    "plt.figure(figsize=(12, 6))\n",
    "plt.hist(toxic_conversations['Num_users'], bins=50, edgecolor='black', alpha=0.7, color='red')\n",
    "plt.title('Histogram of Number of Unique Users - Toxic Conversations')\n",
    "plt.xlabel('Number of Unique Users')\n",
    "plt.ylabel('Frequency')\n",
    "plt.grid(True, alpha=0.3)\n",
    "plt.show()"
   ]
  },
  {
   "cell_type": "markdown",
   "id": "f7092171",
   "metadata": {},
   "source": [
    "**Interpretation:** The distribution shows how many unique users typically participate in toxic conversations, revealing participation patterns in problematic discussions."
   ]
  },
  {
   "cell_type": "markdown",
   "id": "3236d8a1",
   "metadata": {},
   "source": [
    "## Step 26: Non-toxic Users Histogram"
   ]
  },
  {
   "cell_type": "code",
   "execution_count": 27,
   "id": "4767cda8",
   "metadata": {
    "execution": {
     "iopub.execute_input": "2025-06-10T08:49:25.029307Z",
     "iopub.status.busy": "2025-06-10T08:49:25.028429Z",
     "iopub.status.idle": "2025-06-10T08:49:25.144326Z",
     "shell.execute_reply": "2025-06-10T08:49:25.142993Z"
    }
   },
   "outputs": [
    {
     "data": {
      "image/png": "[encoded data removed]",
      "text/plain": [
       "<Figure size 1200x600 with 1 Axes>"
      ]
     },
     "metadata": {},
     "output_type": "display_data"
    }
   ],
   "source": [
    "# Plot histogram of number of unique users of non-toxic conversations\n",
    "plt.figure(figsize=(12, 6))\n",
    "plt.hist(non_toxic_conversations['Num_users'], bins=50, edgecolor='black', alpha=0.7, color='green')\n",
    "plt.title('Histogram of Number of Unique Users - Non-toxic Conversations')\n",
    "plt.xlabel('Number of Unique Users')\n",
    "plt.ylabel('Frequency')\n",
    "plt.grid(True, alpha=0.3)\n",
    "plt.show()"
   ]
  },
  {
   "cell_type": "markdown",
   "id": "7de2133a",
   "metadata": {},
   "source": [
    "**Interpretation:** This distribution can be compared with Step 25 to understand differences in user participation patterns between toxic and non-toxic conversations."
   ]
  },
  {
   "cell_type": "markdown",
   "id": "00b9642d",
   "metadata": {},
   "source": [
    "## Step 27: Mann-Whitney Test for Users"
   ]
  },
  {
   "cell_type": "code",
   "execution_count": 28,
   "id": "606f6d19",
   "metadata": {
    "execution": {
     "iopub.execute_input": "2025-06-10T08:49:25.147614Z",
     "iopub.status.busy": "2025-06-10T08:49:25.147307Z",
     "iopub.status.idle": "2025-06-10T08:49:25.155175Z",
     "shell.execute_reply": "2025-06-10T08:49:25.154743Z"
    }
   },
   "outputs": [
    {
     "name": "stdout",
     "output_type": "stream",
     "text": [
      "Mann-Whitney Test for Number of Unique Users:\n",
      "Mann-Whitney U statistic: 108388312.5000\n",
      "P-value: 0.0000\n",
      "\n",
      "Descriptive statistics:\n",
      "Toxic conversations - Median users: 4.00\n",
      "Non-toxic conversations - Median users: 2.00\n",
      "\n",
      "At alpha = 0.05:\n",
      "Reject H0: There is a significant difference in number of unique users\n"
     ]
    }
   ],
   "source": [
    "# Run Mann-Whitney test to compare number of unique users of toxic vs. non-toxic conversations\n",
    "toxic_users = toxic_conversations['Num_users']\n",
    "non_toxic_users = non_toxic_conversations['Num_users']\n",
    "\n",
    "# Perform Mann-Whitney U test\n",
    "mw_stat_users, mw_p_value_users = mannwhitneyu(toxic_users, non_toxic_users, alternative='two-sided')\n",
    "\n",
    "print(\"Mann-Whitney Test for Number of Unique Users:\")\n",
    "print(f\"Mann-Whitney U statistic: {mw_stat_users:.4f}\")\n",
    "print(f\"P-value: {mw_p_value_users:.4f}\")\n",
    "\n",
    "print(f\"\\nDescriptive statistics:\")\n",
    "print(f\"Toxic conversations - Median users: {toxic_users.median():.2f}\")\n",
    "print(f\"Non-toxic conversations - Median users: {non_toxic_users.median():.2f}\")\n",
    "\n",
    "alpha = 0.05\n",
    "print(f\"\\nAt alpha = {alpha}:\")\n",
    "if mw_p_value_users < alpha:\n",
    "    print(\"Reject H0: There is a significant difference in number of unique users\")\n",
    "else:\n",
    "    print(\"Fail to reject H0: No significant difference in number of unique users\")"
   ]
  },
  {
   "cell_type": "markdown",
   "id": "211a669d",
   "metadata": {},
   "source": [
    "**Interpretation:**\n",
    "- **Null Hypothesis (H0)**: There is no difference in the number of unique users between toxic and non-toxic conversations\n",
    "- **Alternative Hypothesis (H1)**: There is a difference in the number of unique users between toxic and non-toxic conversations\n",
    "\n",
    "The test results indicate whether we should reject or fail to reject H0."
   ]
  },
  {
   "cell_type": "markdown",
   "id": "1a16b69f",
   "metadata": {},
   "source": [
    "## Step 28: T-tests Comparison"
   ]
  },
  {
   "cell_type": "code",
   "execution_count": 29,
   "id": "08b069cc",
   "metadata": {
    "execution": {
     "iopub.execute_input": "2025-06-10T08:49:25.157282Z",
     "iopub.status.busy": "2025-06-10T08:49:25.157099Z",
     "iopub.status.idle": "2025-06-10T08:49:25.171530Z",
     "shell.execute_reply": "2025-06-10T08:49:25.170830Z"
    }
   },
   "outputs": [
    {
     "name": "stdout",
     "output_type": "stream",
     "text": [
      "T-test for Conversation Length:\n",
      "T-statistic: 32.1488\n",
      "P-value: 0.0000\n",
      "\n",
      "T-test for Number of Unique Users:\n",
      "T-statistic: 28.7175\n",
      "P-value: 0.0000\n",
      "\n",
      "============================================================\n",
      "COMPARISON OF RESULTS:\n",
      "============================================================\n",
      "\n",
      "Conversation Length:\n",
      "Mann-Whitney p-value: 0.0000\n",
      "T-test p-value: 0.0000\n",
      "Results similar: True\n",
      "\n",
      "Number of Users:\n",
      "Mann-Whitney p-value: 0.0000\n",
      "T-test p-value: 0.0000\n",
      "Results similar: True\n",
      "\n",
      "============================================================\n",
      "NORMALITY TESTS (for t-test appropriateness):\n",
      "============================================================\n",
      "Shapiro-Wilk test for normality (sample of 5000):\n",
      "Toxic lengths p-value: 0.0000\n",
      "Non-toxic lengths p-value: 0.0000\n",
      "\n",
      "Data is NOT normally distributed - Mann-Whitney test is more appropriate\n"
     ]
    }
   ],
   "source": [
    "# Run t-tests for the tasks in Steps 27 and 24\n",
    "\n",
    "# T-test for conversation lengths (Step 24 comparison)\n",
    "t_stat_length, t_p_value_length = ttest_ind(toxic_lengths, non_toxic_lengths)\n",
    "print(\"T-test for Conversation Length:\")\n",
    "print(f\"T-statistic: {t_stat_length:.4f}\")\n",
    "print(f\"P-value: {t_p_value_length:.4f}\")\n",
    "\n",
    "# T-test for number of users (Step 27 comparison)\n",
    "t_stat_users, t_p_value_users = ttest_ind(toxic_users, non_toxic_users)\n",
    "print(\"\\nT-test for Number of Unique Users:\")\n",
    "print(f\"T-statistic: {t_stat_users:.4f}\")\n",
    "print(f\"P-value: {t_p_value_users:.4f}\")\n",
    "\n",
    "# Compare with Mann-Whitney results\n",
    "print(\"\\n\" + \"=\"*60)\n",
    "print(\"COMPARISON OF RESULTS:\")\n",
    "print(\"=\"*60)\n",
    "print(f\"\\nConversation Length:\")\n",
    "print(f\"Mann-Whitney p-value: {mw_p_value:.4f}\")\n",
    "print(f\"T-test p-value: {t_p_value_length:.4f}\")\n",
    "print(f\"Results similar: {abs(mw_p_value - t_p_value_length) < 0.01}\")\n",
    "\n",
    "print(f\"\\nNumber of Users:\")\n",
    "print(f\"Mann-Whitney p-value: {mw_p_value_users:.4f}\")\n",
    "print(f\"T-test p-value: {t_p_value_users:.4f}\")\n",
    "print(f\"Results similar: {abs(mw_p_value_users - t_p_value_users) < 0.01}\")\n",
    "\n",
    "# Check normality assumptions for t-test\n",
    "from scipy.stats import shapiro\n",
    "print(\"\\n\" + \"=\"*60)\n",
    "print(\"NORMALITY TESTS (for t-test appropriateness):\")\n",
    "print(\"=\"*60)\n",
    "\n",
    "# Sample data for normality test (full data might be too large)\n",
    "sample_size = min(5000, len(toxic_lengths), len(non_toxic_lengths))\n",
    "toxic_sample = toxic_lengths.sample(sample_size, random_state=42)\n",
    "non_toxic_sample = non_toxic_lengths.sample(sample_size, random_state=42)\n",
    "\n",
    "_, p_normal_toxic = shapiro(toxic_sample)\n",
    "_, p_normal_non_toxic = shapiro(non_toxic_sample)\n",
    "\n",
    "print(f\"Shapiro-Wilk test for normality (sample of {sample_size}):\")\n",
    "print(f\"Toxic lengths p-value: {p_normal_toxic:.4f}\")\n",
    "print(f\"Non-toxic lengths p-value: {p_normal_non_toxic:.4f}\")\n",
    "\n",
    "if p_normal_toxic < 0.05 or p_normal_non_toxic < 0.05:\n",
    "    print(\"\\nData is NOT normally distributed - Mann-Whitney test is more appropriate\")\n",
    "else:\n",
    "    print(\"\\nData appears normally distributed - both tests are appropriate\")"
   ]
  },
  {
   "cell_type": "markdown",
   "id": "2bf2613f",
   "metadata": {},
   "source": [
    "**Interpretation:**\n",
    "The comparison between Mann-Whitney tests and t-tests helps us understand:\n",
    "\n",
    "1. **Similarity of Results**: Whether both tests give similar conclusions\n",
    "2. **Test Appropriateness**: \n",
    "   - **Mann-Whitney test**: Non-parametric, doesn't assume normal distribution, more robust to outliers\n",
    "   - **T-test**: Parametric, assumes normal distribution, more powerful when assumptions are met\n",
    "\n",
    "3. **Which test is more appropriate**: Based on the normality of the data, Mann-Whitney is generally more appropriate for non-normal distributions, while t-tests are preferred when data is normally distributed. Given the nature of social media data (often skewed), Mann-Whitney tests are typically more reliable."
   ]
  },
  {
   "cell_type": "markdown",
   "id": "600daabd",
   "metadata": {},
   "source": [
    "## Summary\n",
    "\n",
    "This exploratory data analysis has provided comprehensive insights into the Twitter conversation dataset:\n",
    "\n",
    "1. **Data Quality**: Cleaned dataset by removing missing values and duplicates\n",
    "2. **Feature Engineering**: Created binary toxicity indicators and composite measures\n",
    "3. **Descriptive Statistics**: Analyzed distributions of key variables\n",
    "4. **Comparative Analysis**: Examined differences between toxic and non-toxic conversations\n",
    "5. **Statistical Testing**: Applied appropriate tests to validate observed differences\n",
    "\n",
    "The analysis reveals important patterns in Twitter conversation dynamics and toxicity that can inform future research and content moderation strategies."
   ]
  }
 ],
 "metadata": {
  "language_info": {
   "codemirror_mode": {
    "name": "ipython",
    "version": 3
   },
   "file_extension": ".py",
   "mimetype": "text/x-python",
   "name": "python",
   "nbconvert_exporter": "python",
   "pygments_lexer": "ipython3",
   "version": "3.13.3"
  }
 },
 "nbformat": 4,
 "nbformat_minor": 5
}
